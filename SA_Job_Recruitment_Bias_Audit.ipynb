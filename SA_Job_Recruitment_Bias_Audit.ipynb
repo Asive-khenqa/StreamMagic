{
  "nbformat": 4,
  "nbformat_minor": 0,
  "metadata": {
    "colab": {
      "provenance": [],
      "authorship_tag": "ABX9TyMO4+XrdmT/ErZol9ObGl3e",
      "include_colab_link": true
    },
    "kernelspec": {
      "name": "python3",
      "display_name": "Python 3"
    },
    "language_info": {
      "name": "python"
    }
  },
  "cells": [
    {
      "cell_type": "markdown",
      "metadata": {
        "id": "view-in-github",
        "colab_type": "text"
      },
      "source": [
        "<a href=\"https://colab.research.google.com/github/Asive-khenqa/StreamMagic/blob/main/SA_Job_Recruitment_Bias_Audit.ipynb\" target=\"_parent\"><img src=\"https://colab.research.google.com/assets/colab-badge.svg\" alt=\"Open In Colab\"/></a>"
      ]
    },
    {
      "cell_type": "code",
      "source": [
        "import pandas as pd\n",
        "import numpy as np\n",
        "\n",
        "np.random.seed(42)  # For reproducibility\n",
        "\n",
        "# Dataset size\n",
        "n = 1000\n",
        "\n",
        "# Categories and probabilities\n",
        "genders = ['Male', 'Female', 'Other']\n",
        "races = ['Black', 'White', 'Coloured', 'Indian', 'Other']\n",
        "locations = ['Urban', 'Rural']\n",
        "educations = ['Matric', 'Diploma', 'Degree', 'Postgrad']\n",
        "\n",
        "# Create DataFrame\n",
        "df = pd.DataFrame({\n",
        "    'gender': np.random.choice(genders, size=n, p=[0.45, 0.45, 0.10]),\n",
        "    'race': np.random.choice(races, size=n, p=[0.6, 0.15, 0.15, 0.07, 0.03]),\n",
        "    'age': np.random.randint(18, 60, size=n),\n",
        "    'location': np.random.choice(locations, size=n, p=[0.7, 0.3]),\n",
        "    'education_level': np.random.choice(educations, size=n, p=[0.3, 0.3, 0.3, 0.1]),\n",
        "    'years_experience': np.random.randint(0, 21, size=n),\n",
        "    'skill_score': np.round(np.random.normal(60, 15, size=n)).clip(0, 100)\n",
        "})\n",
        "\n",
        "# Add bias: Women, rural, and Black/Coloured applicants get penalty on shortlisting\n",
        "def simulate_shortlisting(row):\n",
        "    score = row['skill_score']\n",
        "    exp = row['years_experience']\n",
        "    bias_penalty = 0\n",
        "    if row['gender'] == 'Female':\n",
        "        bias_penalty += 5\n",
        "    if row['location'] == 'Rural':\n",
        "        bias_penalty += 5\n",
        "    if row['race'] in ['Black', 'Coloured']:\n",
        "        bias_penalty += 3\n",
        "    return int((score + exp*2 - bias_penalty) > 75)\n",
        "\n",
        "df['shortlisted'] = df.apply(simulate_shortlisting, axis=1)\n",
        "\n",
        "df.head()"
      ],
      "metadata": {
        "colab": {
          "base_uri": "https://localhost:8080/",
          "height": 206
        },
        "id": "5e6Cvus59gTv",
        "outputId": "320d1f05-f3a1-4995-d0eb-dd7bafd4671e"
      },
      "execution_count": 29,
      "outputs": [
        {
          "output_type": "execute_result",
          "data": {
            "text/plain": [
              "   gender      race  age location education_level  years_experience  \\\n",
              "0    Male     Black   45    Rural          Degree                17   \n",
              "1   Other     Black   24    Urban          Degree                10   \n",
              "2  Female  Coloured   52    Rural         Diploma                20   \n",
              "3  Female     White   45    Rural         Diploma                13   \n",
              "4    Male  Coloured   31    Urban         Diploma                 8   \n",
              "\n",
              "   skill_score  shortlisted  \n",
              "0         51.0            1  \n",
              "1         91.0            1  \n",
              "2         52.0            1  \n",
              "3         60.0            1  \n",
              "4         50.0            0  "
            ],
            "text/html": [
              "<div>\n",
              "<style scoped>\n",
              "    .dataframe tbody tr th:only-of-type {\n",
              "        vertical-align: middle;\n",
              "    }\n",
              "\n",
              "    .dataframe tbody tr th {\n",
              "        vertical-align: top;\n",
              "    }\n",
              "\n",
              "    .dataframe thead th {\n",
              "        text-align: right;\n",
              "    }\n",
              "</style>\n",
              "<table border=\"1\" class=\"dataframe\">\n",
              "  <thead>\n",
              "    <tr style=\"text-align: right;\">\n",
              "      <th></th>\n",
              "      <th>gender</th>\n",
              "      <th>race</th>\n",
              "      <th>age</th>\n",
              "      <th>location</th>\n",
              "      <th>education_level</th>\n",
              "      <th>years_experience</th>\n",
              "      <th>skill_score</th>\n",
              "      <th>shortlisted</th>\n",
              "    </tr>\n",
              "  </thead>\n",
              "  <tbody>\n",
              "    <tr>\n",
              "      <th>0</th>\n",
              "      <td>Male</td>\n",
              "      <td>Black</td>\n",
              "      <td>45</td>\n",
              "      <td>Rural</td>\n",
              "      <td>Degree</td>\n",
              "      <td>17</td>\n",
              "      <td>51.0</td>\n",
              "      <td>1</td>\n",
              "    </tr>\n",
              "    <tr>\n",
              "      <th>1</th>\n",
              "      <td>Other</td>\n",
              "      <td>Black</td>\n",
              "      <td>24</td>\n",
              "      <td>Urban</td>\n",
              "      <td>Degree</td>\n",
              "      <td>10</td>\n",
              "      <td>91.0</td>\n",
              "      <td>1</td>\n",
              "    </tr>\n",
              "    <tr>\n",
              "      <th>2</th>\n",
              "      <td>Female</td>\n",
              "      <td>Coloured</td>\n",
              "      <td>52</td>\n",
              "      <td>Rural</td>\n",
              "      <td>Diploma</td>\n",
              "      <td>20</td>\n",
              "      <td>52.0</td>\n",
              "      <td>1</td>\n",
              "    </tr>\n",
              "    <tr>\n",
              "      <th>3</th>\n",
              "      <td>Female</td>\n",
              "      <td>White</td>\n",
              "      <td>45</td>\n",
              "      <td>Rural</td>\n",
              "      <td>Diploma</td>\n",
              "      <td>13</td>\n",
              "      <td>60.0</td>\n",
              "      <td>1</td>\n",
              "    </tr>\n",
              "    <tr>\n",
              "      <th>4</th>\n",
              "      <td>Male</td>\n",
              "      <td>Coloured</td>\n",
              "      <td>31</td>\n",
              "      <td>Urban</td>\n",
              "      <td>Diploma</td>\n",
              "      <td>8</td>\n",
              "      <td>50.0</td>\n",
              "      <td>0</td>\n",
              "    </tr>\n",
              "  </tbody>\n",
              "</table>\n",
              "</div>"
            ]
          },
          "metadata": {},
          "execution_count": 29
        }
      ]
    },
    {
      "cell_type": "code",
      "source": [
        "!pip install -q aif360\n"
      ],
      "metadata": {
        "id": "v_2N-tme9obh"
      },
      "execution_count": 30,
      "outputs": []
    },
    {
      "cell_type": "code",
      "source": [
        "import pandas as pd\n",
        "import numpy as np\n",
        "import matplotlib.pyplot as plt\n",
        "import seaborn as sns\n",
        "\n",
        "from sklearn.preprocessing import LabelEncoder\n",
        "from sklearn.model_selection import train_test_split\n",
        "from sklearn.linear_model import LogisticRegression\n",
        "from sklearn.metrics import accuracy_score, f1_score\n",
        "\n",
        "from aif360.datasets import StandardDataset\n",
        "from aif360.metrics import BinaryLabelDatasetMetric\n",
        "from aif360.algorithms.preprocessing import Reweighing\n",
        "\n",
        "sns.set(style=\"whitegrid\")\n",
        "pd.set_option('display.max_columns', None)\n"
      ],
      "metadata": {
        "id": "yqyeM89L-Vmm"
      },
      "execution_count": 31,
      "outputs": []
    },
    {
      "cell_type": "code",
      "source": [
        "# Encode target variable\n",
        "df['shortlisted'] = df['shortlisted'].astype(int)\n",
        "\n",
        "# Label encode categorical features for AIF360 compatibility\n",
        "le_gender = LabelEncoder()\n",
        "df['gender_enc'] = le_gender.fit_transform(df['gender'])  # Male=1, Female=0, Other=2\n",
        "\n",
        "le_race = LabelEncoder()\n",
        "df['race_enc'] = le_race.fit_transform(df['race'])\n",
        "\n",
        "le_location = LabelEncoder()\n",
        "df['location_enc'] = le_location.fit_transform(df['location'])\n",
        "\n",
        "le_education = LabelEncoder()\n",
        "df['education_enc'] = le_education.fit_transform(df['education_level'])\n",
        "\n",
        "# Drop original categorical columns before creating the StandardDataset\n",
        "df_numerical = df.drop(['gender', 'race', 'location', 'education_level'], axis=1)\n",
        "\n",
        "# Prepare dataset for AIF360\n",
        "protected_attribute = 'gender_enc'  # Change this to 'race_enc' or 'location_enc' to test others\n",
        "\n",
        "dataset = StandardDataset(df_numerical,\n",
        "                          label_name='shortlisted',\n",
        "                          favorable_classes=[1],\n",
        "                          protected_attribute_names=[protected_attribute],\n",
        "                          privileged_classes=[[1]])  # Male is privileged (encoded as 1)\n",
        "\n",
        "print(dataset.features.shape)\n",
        "print(dataset.feature_names)"
      ],
      "metadata": {
        "colab": {
          "base_uri": "https://localhost:8080/"
        },
        "id": "m4t7WKOx-glu",
        "outputId": "94f20d6e-5e1e-401a-a26e-8d2acb8ff5e2"
      },
      "execution_count": 32,
      "outputs": [
        {
          "output_type": "stream",
          "name": "stdout",
          "text": [
            "(1000, 7)\n",
            "['age', 'years_experience', 'skill_score', 'gender_enc', 'race_enc', 'location_enc', 'education_enc']\n"
          ]
        }
      ]
    },
    {
      "cell_type": "code",
      "source": [
        "privileged_groups = [{protected_attribute: 1}]\n",
        "unprivileged_groups = [{protected_attribute: 0}]\n",
        "\n",
        "metric = BinaryLabelDatasetMetric(dataset,\n",
        "                                 unprivileged_groups=unprivileged_groups,\n",
        "                                 privileged_groups=privileged_groups)\n",
        "\n",
        "print(\"Statistical Parity Difference:\", metric.statistical_parity_difference())\n",
        "print(\"Disparate Impact:\", metric.disparate_impact())\n"
      ],
      "metadata": {
        "colab": {
          "base_uri": "https://localhost:8080/"
        },
        "id": "dzj3-cxtALpw",
        "outputId": "5639b26f-5ea4-4e2b-8122-5e672b90b81f"
      },
      "execution_count": 33,
      "outputs": [
        {
          "output_type": "stream",
          "name": "stdout",
          "text": [
            "Statistical Parity Difference: -0.11882655809150156\n",
            "Disparate Impact: 0.7791167609670072\n"
          ]
        }
      ]
    },
    {
      "cell_type": "code",
      "source": [
        "X_train, X_test, y_train, y_test = train_test_split(dataset.features, dataset.labels.ravel(), test_size=0.3, random_state=42)\n",
        "\n",
        "clf = LogisticRegression(max_iter=1000)\n",
        "clf.fit(X_train, y_train)\n",
        "\n",
        "y_pred = clf.predict(X_test)\n",
        "\n",
        "print(\"Accuracy:\", accuracy_score(y_test, y_pred))\n",
        "print(\"F1 Score:\", f1_score(y_test, y_pred))\n"
      ],
      "metadata": {
        "colab": {
          "base_uri": "https://localhost:8080/"
        },
        "id": "T86o1Ca4AW82",
        "outputId": "67dd28e3-240c-4850-990d-57d4240b4285"
      },
      "execution_count": 34,
      "outputs": [
        {
          "output_type": "stream",
          "name": "stdout",
          "text": [
            "Accuracy: 0.9866666666666667\n",
            "F1 Score: 0.9865771812080537\n"
          ]
        }
      ]
    },
    {
      "cell_type": "code",
      "source": [
        "RW = Reweighing(unprivileged_groups=unprivileged_groups, privileged_groups=privileged_groups)\n",
        "dataset_transf = RW.fit_transform(dataset)\n",
        "\n",
        "X_train_rw, X_test_rw, y_train_rw, y_test_rw = train_test_split(\n",
        "    dataset_transf.features, dataset_transf.labels.ravel(), test_size=0.3, random_state=42)\n",
        "\n",
        "sample_weights = dataset_transf.instance_weights[:len(X_train_rw)]\n",
        "\n",
        "clf_rw = LogisticRegression(max_iter=1000)\n",
        "clf_rw.fit(X_train_rw, y_train_rw, sample_weight=sample_weights)\n",
        "\n",
        "y_pred_rw = clf_rw.predict(X_test_rw)\n",
        "\n",
        "print(\"Post-Mitigation Accuracy:\", accuracy_score(y_test_rw, y_pred_rw))\n",
        "print(\"Post-Mitigation F1:\", f1_score(y_test_rw, y_pred_rw))\n"
      ],
      "metadata": {
        "colab": {
          "base_uri": "https://localhost:8080/"
        },
        "id": "FWIGaCGkAp3G",
        "outputId": "6db2a5f7-daa8-4a9a-a43a-dc3a51ad3237"
      },
      "execution_count": 35,
      "outputs": [
        {
          "output_type": "stream",
          "name": "stdout",
          "text": [
            "Post-Mitigation Accuracy: 0.9866666666666667\n",
            "Post-Mitigation F1: 0.9865771812080537\n"
          ]
        }
      ]
    },
    {
      "cell_type": "code",
      "source": [
        "from aif360.datasets import BinaryLabelDataset\n",
        "import pandas as pd\n",
        "\n",
        "# Create a DataFrame with features and predicted labels\n",
        "test_df = pd.DataFrame(X_test_rw, columns=dataset.feature_names)\n",
        "test_df['shortlisted'] = y_pred_rw\n",
        "\n",
        "test_dataset = BinaryLabelDataset(favorable_label=1,\n",
        "                                  unfavorable_label=0,\n",
        "                                  df=test_df,\n",
        "                                  label_names=['shortlisted'],\n",
        "                                  protected_attribute_names=[protected_attribute])\n",
        "\n",
        "\n",
        "metric_post = BinaryLabelDatasetMetric(test_dataset,\n",
        "                                       unprivileged_groups=unprivileged_groups,\n",
        "                                       privileged_groups=privileged_groups)\n",
        "\n",
        "print(\"Post-Mitigation Statistical Parity Difference:\", metric_post.statistical_parity_difference())\n",
        "print(\"Post-Mitigation Disparate Impact:\", metric_post.disparate_impact())"
      ],
      "metadata": {
        "colab": {
          "base_uri": "https://localhost:8080/"
        },
        "id": "eG0mNho-AvL3",
        "outputId": "db589b0b-0df7-4728-8f25-9804dd64a176"
      },
      "execution_count": 36,
      "outputs": [
        {
          "output_type": "stream",
          "name": "stdout",
          "text": [
            "Post-Mitigation Statistical Parity Difference: -0.044840655527678464\n",
            "Post-Mitigation Disparate Impact: 0.9121614556101642\n"
          ]
        }
      ]
    },
    {
      "cell_type": "code",
      "source": [
        "labels = ['Statistical Parity Difference', 'Disparate Impact']\n",
        "before = [metric.statistical_parity_difference(), metric.disparate_impact()]\n",
        "after = [metric_post.statistical_parity_difference(), metric_post.disparate_impact()]\n",
        "\n",
        "x = np.arange(len(labels))\n",
        "width = 0.35\n",
        "\n",
        "fig, ax = plt.subplots()\n",
        "rects1 = ax.bar(x - width/2, before, width, label='Before')\n",
        "rects2 = ax.bar(x + width/2, after, width, label='After')\n",
        "\n",
        "ax.set_ylabel('Scores')\n",
        "ax.set_title('Fairness Metrics Before and After Mitigation')\n",
        "ax.set_xticks(x)\n",
        "ax.set_xticklabels(labels)\n",
        "ax.legend()\n",
        "\n",
        "plt.show()\n"
      ],
      "metadata": {
        "colab": {
          "base_uri": "https://localhost:8080/",
          "height": 457
        },
        "id": "r2GuiCOaA1hJ",
        "outputId": "8c11be82-be9b-4d97-dd21-ee769d95e317"
      },
      "execution_count": 37,
      "outputs": [
        {
          "output_type": "display_data",
          "data": {
            "text/plain": [
              "<Figure size 640x480 with 1 Axes>"
            ],
            "image/png": "[encoded data removed]"
          },
          "metadata": {}
        }
      ]
    }
  ]
}